{
 "cells": [
  {
   "cell_type": "markdown",
   "metadata": {},
   "source": [
    "## Installation"
   ]
  },
  {
   "cell_type": "markdown",
   "metadata": {},
   "source": [
    "### Please Read This First\n",
    "\n",
    "Delivering LSP features to your JupyterLab **requires** three pieces:\n",
    "\n",
    "- `jupyter_lsp`\n",
    "  - runs in your `notebook` web application on your server\n",
    "  - to run, you need:\n",
    "    - `python >=3.5`\n",
    "    - `notebook >=4.3`\n",
    "- `jupyterlab-lsp`\n",
    "  - runs in your browser\n",
    "  - to install it, you need:\n",
    "    - `nodejs >8`\n",
    "    - `jupyterlab >=1.1,<2`\n",
    "- one or more language servers\n",
    "  - run on your server\n",
    "  - some can be automatically [detected](./Language%20Servers.ipynb) if\n",
    "    installed\n",
    "  - others also need to be [configured](./Configuring.ipynb#language_servers)"
   ]
  },
  {
   "cell_type": "markdown",
   "metadata": {},
   "source": [
    "### Fast Paths\n",
    "\n",
    "Here are two approches based on Jupyter documentation. If these do not meet your\n",
    "needs, try [The Harder Way](#The-Harder-Way)."
   ]
  },
  {
   "cell_type": "markdown",
   "metadata": {},
   "source": [
    "#### conda (minimal python)\n",
    "\n",
    "```bash\n",
    "conda create -c conda-forge -n lsp 'python >=3.7,<3.8' 'jupyterlab=1.2' 'nodejs=11' python-language-server\n",
    "# Also consider: r-languageserver [*]\n",
    "source activate lsp\n",
    "pip install jupyter_lsp=0.7 --no-deps\n",
    "jupyter lab build\n",
    "jupyter lab\n",
    "```"
   ]
  },
  {
   "cell_type": "markdown",
   "metadata": {},
   "source": [
    "#### docker (data science)\n",
    "\n",
    "This approach is based roughly on the\n",
    "[Jupyter docker-stacks documentation](https://github.com/jupyter/docker-stacks/tree/master/examples/docker-compose/notebook)."
   ]
  },
  {
   "cell_type": "markdown",
   "metadata": {},
   "source": [
    "##### `Dockerfile`\n",
    "\n",
    "```dockerfile\n",
    "FROM jupyter/datascience-notebook:18ef2702c6a2\n",
    "\n",
    "RUN conda install --quiet --yes --freeze-installed \\\n",
    "        'jupyterlab=1.2' \\\n",
    "        'nodejs=11' \\\n",
    "        'python-language-server' \\\n",
    "        'r-languageserver' \\\n",
    "    && pip install \\\n",
    "        'jupyter_lsp=0.7' \\\n",
    "    && conda clean --all -f -y \\\n",
    "    && fix-permissions \"$CONDA_DIR\" \\\n",
    "    && fix-permissions \"/home/$NB_USER\" \\\n",
    "    && jupyter lab build \\\n",
    "    && jlpm cache clean \\\n",
    "    && rm -rf \"$CONDA_DIR/share/jupyter/lab/{staging}\"\n",
    "```"
   ]
  },
  {
   "cell_type": "markdown",
   "metadata": {},
   "source": [
    "##### `docker-compose.yml`\n",
    "\n",
    "```yaml\n",
    "version: '2'\n",
    "\n",
    "services:\n",
    "  notebook:\n",
    "    build: .\n",
    "    image: jupyterlab-lsp-notebook\n",
    "    container_name: ${NAME}\n",
    "    volumes:\n",
    "      - 'work:/home/jovyan/work'\n",
    "    ports:\n",
    "      - '${PORT}:8888'\n",
    "    environment:\n",
    "      USE_HTTPS: 'yes'\n",
    "      PASSWORD: ${PASSWORD}\n",
    "\n",
    "volumes:\n",
    "  work:\n",
    "    external:\n",
    "      name: ${WORK_VOLUME}\n",
    "```"
   ]
  },
  {
   "cell_type": "markdown",
   "metadata": {},
   "source": [
    "##### Build and Start\n",
    "\n",
    "```bash\n",
    "PORT=8899 NAME=lsp PASSWORD=change-me-silly WORK_VOLUME=. docker-compose up\n",
    "```"
   ]
  },
  {
   "cell_type": "markdown",
   "metadata": {},
   "source": [
    "### The Harder Way"
   ]
  },
  {
   "cell_type": "markdown",
   "metadata": {},
   "source": [
    "#### Get A Working JupyterLab environment\n",
    "\n",
    "Refer to the official\n",
    "[JupyterLab Installation Documentation](https://jupyterlab.readthedocs.io/en/stable/getting_started/installation.html)\n",
    "for your installation approach.\n",
    "\n",
    "| pip            | conda            | pipenv | poetry | `*` |\n",
    "| -------------- | ---------------- | ------ | ------ | --- |\n",
    "| [lab][lab-pip] | [lab][lab-conda] | `*`    | `*`    | `*` |\n",
    "\n",
    "> `*` PRs welcome!\n",
    "\n",
    "Verify your lab works:\n",
    "\n",
    "```bash\n",
    "jupyter lab --version\n",
    "jupyter lab\n",
    "```\n",
    "\n",
    "[lab-conda]:\n",
    "  https://jupyterlab.readthedocs.io/en/stable/getting_started/installation.html#conda\n",
    "[lab-pip]:\n",
    "  https://jupyterlab.readthedocs.io/en/stable/getting_started/installation.html#pip"
   ]
  },
  {
   "cell_type": "markdown",
   "metadata": {},
   "source": [
    "#### Get a Working NodeJS\n",
    "\n",
    "The [JupyterLab Development Environment Documentation][nodejs-conda] shows some\n",
    "approaches for getting NodeJS.\n",
    "\n",
    "| conda                  | `*` |\n",
    "| ---------------------- | --- |\n",
    "| [nodejs][nodejs-conda] | `*` |\n",
    "\n",
    "[nodejs-conda]:\n",
    "  https://jupyterlab.readthedocs.io/en/stable/developer/extension_tutorial.html#set-up-a-development-environment\n",
    "\n",
    "Verify your node works and is findable from python.\n",
    "\n",
    "```bash\n",
    "jlpm versions\n",
    "```"
   ]
  },
  {
   "cell_type": "markdown",
   "metadata": {},
   "source": [
    "#### Install Jupyter[Lab] LSP\n",
    "\n",
    "```bash\n",
    "pip install jupyter_lsp\n",
    "jupyter labextension install @krassowitz/jupyterlab-lsp\n",
    "```"
   ]
  },
  {
   "cell_type": "markdown",
   "metadata": {},
   "source": [
    "### Next Step: Language Servers\n",
    "\n",
    "Now that you have `jupyterlab-lsp`, `jupyter_lsp` and all of their dependencies,\n",
    "you'll need some language servers. See:\n",
    "\n",
    "- [Language Servers](./Language%20Servers.ipynb) that will be found\n",
    "  automatically once installed\n",
    "- [configuring](./Configuring.ipynb) `jupyter_lsp` for more control over which\n",
    "  servers to load"
   ]
  }
 ],
 "metadata": {
  "kernelspec": {
   "display_name": "Python 3",
   "language": "python",
   "name": "python3"
  },
  "language_info": {
   "codemirror_mode": {
    "name": "ipython",
    "version": 3
   },
   "file_extension": ".py",
   "mimetype": "text/x-python",
   "name": "python",
   "nbconvert_exporter": "python",
   "pygments_lexer": "ipython3",
   "version": "3.7.6"
  }
 },
 "nbformat": 4,
 "nbformat_minor": 4
}
