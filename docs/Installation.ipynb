{
 "cells": [
  {
   "cell_type": "markdown",
   "metadata": {},
   "source": [
    "## Installation"
   ]
  },
  {
   "cell_type": "markdown",
   "metadata": {},
   "source": [
    "### Fast Paths\n",
    "Here are two approches based on Jupyter documentation. If these do not meet your needs, try [The Harder Way](#The-Harder-Way)."
   ]
  },
  {
   "cell_type": "markdown",
   "metadata": {},
   "source": [
    "#### conda (minimal python)\n",
    "```bash\n",
    "(base) $ conda create -c conda-forge -n lsp 'python >=3.7,<3.8' 'jupyterlab=1.2' 'nodejs=11' python-language-server\n",
    "# Also consider: r-languageserver [*]\n",
    "(base) $ source activate lsp\n",
    "(lsp) $ pip install jupyter_lsp=0.7 --no-deps\n",
    "(lsp) $ jupyter lab build\n",
    "(lsp) $ jupyter lab \n",
    "```"
   ]
  },
  {
   "cell_type": "markdown",
   "metadata": {},
   "source": [
    "#### docker (data science)\n",
    "This approach is based roughly on the [Jupyter docker-stacks documentation](https://github.com/jupyter/docker-stacks/tree/master/examples/docker-compose/notebook)."
   ]
  },
  {
   "cell_type": "markdown",
   "metadata": {},
   "source": [
    "##### `Dockerfile`\n",
    "```docker\n",
    "FROM jupyter/datascience-notebook:18ef2702c6a2\n",
    "\n",
    "RUN conda install --quiet --yes --freeze-installed \\\n",
    "        'jupyterlab=1.2' \\\n",
    "        'nodejs=11' \\\n",
    "        'python-language-server' \\\n",
    "        'r-languageserver' \\\n",
    "    && pip install \\\n",
    "        'jupyter_lsp=0.7' \\\n",
    "    && conda clean --all -f -y \\\n",
    "    && fix-permissions \"$CONDA_DIR\" \\\n",
    "    && fix-permissions \"/home/$NB_USER\" \\\n",
    "    && jupyter lab build \\\n",
    "    && jlpm cache clean \\\n",
    "    && rm -rf \"$CONDA_DIR/share/jupyter/lab/{staging}\"\n",
    "```"
   ]
  },
  {
   "cell_type": "markdown",
   "metadata": {},
   "source": [
    "##### `docker-compose.yml`\n",
    "\n",
    "```yaml\n",
    "version: \"2\"\n",
    "\n",
    "services:\n",
    "  notebook:\n",
    "    build: .\n",
    "    image: jupyterlab-lsp-notebook\n",
    "    container_name: ${NAME}\n",
    "    volumes:\n",
    "     - \"work:/home/jovyan/work\"\n",
    "    ports:\n",
    "      - \"${PORT}:8888\"\n",
    "    environment:\n",
    "      USE_HTTPS: \"yes\"\n",
    "      PASSWORD: ${PASSWORD}\n",
    "\n",
    "volumes:\n",
    "  work:\n",
    "    external:\n",
    "      name: ${WORK_VOLUME}\n",
    "```"
   ]
  },
  {
   "cell_type": "markdown",
   "metadata": {},
   "source": [
    "##### Build and Start\n",
    "```bash\n",
    "$ PORT=8899 NAME=lsp PASSWORD=change-me-silly WORK_VOLUME=. docker-compose up\n",
    "```"
   ]
  },
  {
   "cell_type": "markdown",
   "metadata": {},
   "source": [
    "### The Harder Way"
   ]
  },
  {
   "cell_type": "markdown",
   "metadata": {},
   "source": [
    "#### Get A Working JupyterLab environment\n",
    "\n",
    "Refer to the official [JupyterLab Installation Documentation](https://jupyterlab.readthedocs.io/en/stable/getting_started/installation.html) for your installation approach.\n",
    "\n",
    "| pip              | conda              | pipenv   | poetry    | `*` |\n",
    "|------------------|--------------------|----------|-----------|-----|\n",
    "| [lab][lab-pip]   | [lab][lab-conda]   | `*`      | `*`       | `*` |\n",
    "\n",
    "> `*` PRs welcome!\n",
    "\n",
    "Verify your lab works:\n",
    "\n",
    "```\n",
    "$ jupyter lab --version\n",
    "$ jupyter lab\n",
    "```\n",
    "\n",
    "[lab-conda]: https://jupyterlab.readthedocs.io/en/stable/getting_started/installation.html#conda\n",
    "[lab-pip]: https://jupyterlab.readthedocs.io/en/stable/getting_started/installation.html#pip"
   ]
  },
  {
   "cell_type": "markdown",
   "metadata": {},
   "source": [
    "#### Get a Working NodeJS\n",
    "\n",
    "The [JupyterLab Development Environment Documentation][nodejs-conda] shows some approaches for getting NodeJS.\n",
    "\n",
    "| conda                    | `*` |\n",
    "|--------------------------|-----|\n",
    "| [nodejs][nodejs-conda]   | `*` |\n",
    "\n",
    "[nodejs-conda]: https://jupyterlab.readthedocs.io/en/stable/developer/extension_tutorial.html#set-up-a-development-environment\n",
    "\n",
    "Verify your node works and is findable from python.\n",
    "\n",
    "```bash\n",
    "(lsp) $ jlpm versions\n",
    "```"
   ]
  },
  {
   "cell_type": "markdown",
   "metadata": {},
   "source": [
    "#### Install Jupyter[Lab] LSP\n",
    "```bash\n",
    "$ pip install jupyter_lsp\n",
    "$ jupyter labextension install @krassowitz/jupyterlab-lsp\n",
    "```"
   ]
  }
 ],
 "metadata": {
  "kernelspec": {
   "display_name": "Python 3",
   "language": "python",
   "name": "python3"
  },
  "language_info": {
   "codemirror_mode": {
    "name": "ipython",
    "version": 3
   },
   "file_extension": ".py",
   "mimetype": "text/x-python",
   "name": "python",
   "nbconvert_exporter": "python",
   "pygments_lexer": "ipython3",
   "version": "3.7.6"
  }
 },
 "nbformat": 4,
 "nbformat_minor": 4
}
