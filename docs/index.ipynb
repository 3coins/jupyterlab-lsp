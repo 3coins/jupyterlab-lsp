{
 "cells": [
  {
   "cell_type": "markdown",
   "metadata": {},
   "source": [
    "# Jupyter[Lab] Language Server Protocol\n",
    "\n",
    "This is the documentation for:\n",
    "\n",
    "- [jupyterlab-lsp](https://www.npmjs.com/package/@krassowski/jupyterlab-lsp)\n",
    "- [jupyter-lsp](https://pypi.org/project/jupyter-lsp/)\n",
    "\n",
    "Both are managed on [GitHub](https://github.com/krassowski/jupyterlab-lsp), where you can find the [issue tracker](https://github.com/krassowski/jupyterlab-lsp/issues)."
   ]
  },
  {
   "cell_type": "markdown",
   "metadata": {},
   "source": [
    "<h2>Contents</h2>"
   ]
  },
  {
   "cell_type": "markdown",
   "metadata": {
    "nbsphinx-toctree": {
     "maxdepth": 2
    }
   },
   "source": [
    "- [Installation](Installation.ipynb)\n",
    "- [Configuration](LANGUAGESERVERS.md)\n",
    "- [Contributing](./Contributing.ipynb)\n",
    "- [Extending](./EXTENDING.md)\n",
    "- [Architecture](Architecture.ipynb)\n",
    "- [CHANGELOG](../CHANGELOG.md)\n",
    "- [Roadmap](ROADMAP.md)\n",
    "- [Release](RELEASE.md)"
   ]
  }
 ],
 "metadata": {
  "kernelspec": {
   "display_name": "Python 3",
   "language": "python",
   "name": "python3"
  },
  "language_info": {
   "codemirror_mode": {
    "name": "ipython",
    "version": 3
   },
   "file_extension": ".py",
   "mimetype": "text/x-python",
   "name": "python",
   "nbconvert_exporter": "python",
   "pygments_lexer": "ipython3",
   "version": "3.7.6"
  }
 },
 "nbformat": 4,
 "nbformat_minor": 4
}
