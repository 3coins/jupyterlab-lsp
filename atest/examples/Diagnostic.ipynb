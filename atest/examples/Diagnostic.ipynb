{
 "cells": [
  {
   "cell_type": "code",
   "execution_count": 1,
   "metadata": {},
   "outputs": [],
   "source": [
    "from itertools import  (accumulate, chain); accumulate\n",
    "\n",
    "\n",
    "# fibs :: Integer :: [Integer]\n",
    "def fibs(n):\n",
    "    '''An accumulation of the first n integers in\n",
    "       the Fibonacci series. The accumulator is a\n",
    "       pair of the two preceding numbers.\n",
    "    '''\n",
    "    def go(ab, _):\n",
    "        a, b = ab\n",
    "        return (b, a + b)\n",
    "\n",
    "    return [xy[1] for xy in accumulate(\n",
    "        chain(\n",
    "            [(0, 1)],\n",
    "            range(1, n)\n",
    "        ),\n",
    "        go\n",
    "    )]"
   ]
  },
  {
   "cell_type": "code",
   "execution_count": null,
   "metadata": {},
   "outputs": [],
   "source": [
    "%%R\n",
    "x = 1\n",
    "X = 1\n",
    "test   \n",
    "valid\n",
    "0 / \"a\""
   ]
  }
 ],
 "metadata": {
  "kernelspec": {
   "display_name": "Python 3",
   "language": "python",
   "name": "python3"
  },
  "language_info": {
   "codemirror_mode": {
    "name": "ipython",
    "version": 3
   },
   "file_extension": ".py",
   "mimetype": "text/x-python",
   "name": "python",
   "nbconvert_exporter": "python",
   "pygments_lexer": "ipython3",
   "version": "3.7.6"
  }
 },
 "nbformat": 4,
 "nbformat_minor": 4
}
