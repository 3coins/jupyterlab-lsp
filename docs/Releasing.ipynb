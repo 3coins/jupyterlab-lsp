{
 "cells": [
  {
   "cell_type": "markdown",
   "metadata": {},
   "source": [
    "## Releasing \n",
    "\n",
    "`jupyterlab-lsp` and `jupyter_lsp` releases may require building both the python package and nodejs packages."
   ]
  },
  {
   "cell_type": "markdown",
   "metadata": {},
   "source": [
    "### Updating Version Strings\n",
    "\n",
    "Check the version strings across the various files:\n",
    "\n",
    "```bash\n",
    "python scripts/integrity.py\n",
    "```\n",
    "\n",
    "> TODO: create a `release.py` script\n",
    "> [#88](https://github.com/krassowski/jupyterlab-lsp/issues/88)\n",
    "\n",
    "The PyPI version must be updated in the following places:\n",
    "\n",
    "- `py_src/jupyter_lsp/_version.py` (canonical)\n",
    "- `azure-pipelines.yml`\n",
    "- `CHANGELOG.md`\n",
    "\n",
    "The npm version must be updated in the following places\n",
    "\n",
    "- `packages/jupyterlab-lsp/package.json` (canonical)\n",
    "- `azure-pipelines.yml`\n",
    "- `packages/metapackage/package.json`\n",
    "- `CHANGELOG.md`"
   ]
  }
 ],
 "metadata": {
  "kernelspec": {
   "display_name": "Python 3",
   "language": "python",
   "name": "python3"
  },
  "language_info": {
   "codemirror_mode": {
    "name": "ipython",
    "version": 3
   },
   "file_extension": ".py",
   "mimetype": "text/x-python",
   "name": "python",
   "nbconvert_exporter": "python",
   "pygments_lexer": "ipython3",
   "version": "3.7.6"
  }
 },
 "nbformat": 4,
 "nbformat_minor": 4
}
